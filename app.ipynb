{
 "cells": [
  {
   "cell_type": "code",
   "execution_count": 1,
   "metadata": {},
   "outputs": [],
   "source": [
    "# !pip install LunarCalendar"
   ]
  },
  {
   "cell_type": "code",
   "execution_count": 163,
   "metadata": {},
   "outputs": [],
   "source": [
    "import streamlit as st\n",
    "import pandas as pd\n",
    "from datetime import datetime, timedelta, date\n",
    "from itertools import cycle\n",
    "from PIL import Image\n",
    "import re\n",
    "import matplotlib.pyplot as plt\n",
    "import numpy as np\n",
    "import csv\n",
    "\n",
    "animal = [\"крыса\", \"бык\", \"тигр\", \"кролик\", \"дракон\", \"змея\", \"лошадь\", \"коза\", \"обезьяна\", \"петух\", \"собака\", \"свинья\"]\n",
    "stihiya = [\"дерево\", \"дерево\", \"огонь\", \"огонь\", \"почва\", \"почва\",  \"металл\",  \"металл\", \"вода\", \"вода\"]\n",
    "in_yan = [\"ян\", \"инь\"]\n",
    "\n",
    "vis_yaer = [1920, 1924, 1928, 1932, 1936, 1940, 1944, 1948, 1952, 1956, 1960, 1964, 1968, \n",
    "            1972, 1976, 1980, 1984, 1988, 1992, 1996, 2000, 2004, 2008, 2012, 2016, 2020, \n",
    "            2024, 2028, 2032, 2036, 2040, 2044, 2048, 2052]\n",
    "\n",
    "moon_palace = dict({1: [1920, 1942, 0, 1987, 2009, 2032], 2: [0, 1943, 1965, 1988, 2010, 0], \n",
    "    3: [1921, 1944, 1966, 0, 2011, 2033], 4: [1922, 0, 1967, 1989, 2012, 2034], \n",
    "    5: [1923, 1945, 1968, 1990, 0, 2035], 6: [1924, 1946, 0, 1991, 2013, 2036], \n",
    "    7: [0, 1947, 1969, 1992, 2014, 0], 8: [1925, 1948, 1970, 0, 2015, 2037], \n",
    "    9: [1926, 0, 1971, 1993, 2016, 2038], 10: [1927, 1949, 1972, 1994, 0, 2039], \n",
    "    11: [1928, 1950, 0, 1995, 2017, 2040], 12: [0, 1951, 1973, 1996, 2018, 0], \n",
    "    13: [1929, 1952, 1974, 0, 2019, 2041], 14: [1930, 0, 1975, 1997, 2020, 2042], \n",
    "    15: [1931, 1953, 1976, 1998, 0, 2043], 16: [1932, 1954, 0, 1999, 2021, 2044], \n",
    "    17: [0, 1955, 1977, 2000, 2022, 0], 18: [1933, 1956, 1978, 0, 2023, 2045], \n",
    "    19: [1934, 0, 1979, 2001, 2024, 2046], 20: [1935, 1957, 1980, 2002, 0, 2047], \n",
    "    21: [1936, 1958, 0, 2003, 2025, 2048], 22: [0, 1959, 1981, 2004, 2026, 0], \n",
    "    23: [1937, 1960, 1982, 0, 2027, 2049], 24: [1938, 0, 1983, 2005, 2028, 2050], \n",
    "    25: [1939, 1961, 1984, 2006, 0, 2051], 26: [1940, 1962, 0, 2007, 2029, 2052], \n",
    "    27: [0, 1963, 1985, 2008, 2030, 0], 28: [1941, 1964, 1986, 0, 2031, 2053]})\n",
    "\n",
    "sec_step = {1: 27,\n",
    "            2: 2,\n",
    "            3: 2,\n",
    "            4: 5,\n",
    "            5: 7,\n",
    "            6: 10,\n",
    "            7: 12,\n",
    "            8: 15,\n",
    "            9: 18,\n",
    "            10: 20,\n",
    "            11: 23,\n",
    "            12: 25}\n",
    "\n",
    "\n",
    "man = [\"Liv1\", \"Liv4\", \"Liv3\", \"Liv3\", \"Liv5\", \"Liv2\", \"Liv8\", \n",
    "       \"Kid1\", \"Kid7\", \"Kid3\", \"Kid3\", \"Kid4\", \"Kid2\", \"Kid10\", \n",
    "       \"Lu11\", \"Lu8\", \"Lu9\", \"Lu9\", \"Lu7\", \"Lu10\", \"Lu5\", \n",
    "       \"Hg9, Ht9\", \"Hg5, Ht4\", \"Hg7, Ht7\", \"Hg7, Ht7\", \"Hg6, Ht5\", \"Hg8, Ht8\", \"Hg3, Ht3\"]\n",
    "\n",
    "woman = [\"Gb41\", \"Gb44\", \"Gb34\", \"Gb37\", \"Gb40\", \"Gb38\", \"Gb43\", \n",
    "       \"Bl65\", \"Bl67\", \"Bl40\", \"Bl58\", \"Kid4, Bl64\", \"Bl60\", \"Bl66\", \n",
    "       \"Co3\", \"Co1\", \"Co11\", \"Co6\", \"Co4\", \"Co5\", \"Co2\", \n",
    "       \"Si3\", \"Si1\", \"Si8\", \"Si7\", \"Si4\", \"Si5\", \"Si2\"]\n",
    "\n",
    "\n",
    "def read_files():       \n",
    "    cities = pd.read_csv(\"data/cities.csv\")\n",
    "    return cities\n",
    "\n",
    "\n",
    "def get_year(our_date):\n",
    "    stih = cycle(stihiya)\n",
    "    anim = cycle(animal)\n",
    "    inyan = cycle(in_yan)\n",
    "    start_year = 1923\n",
    "    global china_new_year \n",
    "    year_china = our_date.year\n",
    "    if our_date < china_new_year: # корректируем год с учётом китайского нового года\n",
    "        # если отсчёт смены года с 1 февраля, тогда заменить на (our_date.month < 2)\n",
    "        year_china = year_china-1\n",
    "    lst = []\n",
    "    for i in range(year_china - start_year):\n",
    "        start_year+=1\n",
    "        lst.append(f\"Год: {start_year} {next(anim)} {next(inyan)} {next(stih)}\")\n",
    "    return lst[-1]\n",
    "\n",
    "\n",
    "def get_month(our_date):\n",
    "    stih = cycle(stihiya)\n",
    "    anim = cycle(animal)\n",
    "    inyan = cycle(in_yan)  \n",
    "    start_month = date(1924, 1, 1)\n",
    "    end_months=((our_date.year-start_month.year)*12 + our_date.month) % 60\n",
    "    lst = []\n",
    "    for i in range(end_months):\n",
    "        lst.append(f\"Месяц: {next(anim)} {next(inyan)} {next(stih)}\")\n",
    "    return lst[-1]\n",
    "\n",
    "\n",
    "def get_day(our_date):\n",
    "    stih = cycle(stihiya)\n",
    "    anim = cycle(animal)\n",
    "    inyan = cycle(in_yan)  \n",
    "    start_day = date(1923, 2, 20)\n",
    "    lst = []\n",
    "    for i in range(((our_date - start_day).days+1) % 60):\n",
    "        lst.append(f\"День: {next(anim)} {next(inyan)} {next(stih)}\")\n",
    "    return lst[-1]\n"
   ]
  },
  {
   "cell_type": "code",
   "execution_count": 184,
   "metadata": {},
   "outputs": [
    {
     "name": "stdout",
     "output_type": "stream",
     "text": [
      "our_date: 2025-04-06\n",
      "china_new_year 2025-01-29\n"
     ]
    }
   ],
   "source": [
    "our_date =  '06/04,2025' #input('Введите дату') # \n",
    "\n",
    "# Обработка интересующей даты\n",
    "\n",
    "our_date = re.sub('\\D', '.', our_date)\n",
    "our_date = our_date.split('.')\n",
    "d = int(our_date[0])\n",
    "m = int(our_date[1])\n",
    "y = int(our_date[2])\n",
    "\n",
    "our_date = date(y, m, d)\n",
    "print(\"our_date:\", our_date)\n",
    "\n",
    "\n",
    "# Рассчёт китайского нового года\n",
    "l = Lunar(year=our_date.year, month=1, day=1, isleap=False)\n",
    "S = Converter.Lunar2Solar(l)\n",
    "\n",
    "china_new_year = S.to_date()\n",
    "print(\"china_new_year\", china_new_year)"
   ]
  },
  {
   "cell_type": "code",
   "execution_count": 197,
   "metadata": {},
   "outputs": [
    {
     "name": "stdout",
     "output_type": "stream",
     "text": [
      "Год: 2025 змея инь дерево\n",
      "Месяц: кролик инь почва\n",
      "День: змея инь дерево\n"
     ]
    }
   ],
   "source": [
    "year = get_year(our_date)\n",
    "month = get_month(our_date)\n",
    "day = get_day(our_date)\n",
    "print(year)\n",
    "print(month)\n",
    "print(day)"
   ]
  },
  {
   "cell_type": "code",
   "execution_count": 194,
   "metadata": {},
   "outputs": [
    {
     "data": {
      "text/plain": [
       "'Змея инь дерево'"
      ]
     },
     "execution_count": 194,
     "metadata": {},
     "output_type": "execute_result"
    }
   ],
   "source": [
    "df[df['date']==our_date]['days'].values[0]"
   ]
  },
  {
   "cell_type": "code",
   "execution_count": null,
   "metadata": {},
   "outputs": [
    {
     "name": "stdout",
     "output_type": "stream",
     "text": [
      "Текущее время: 11:34:40\n"
     ]
    }
   ],
   "source": [
    "time_now = datetime.now()\n",
    "current_time = time_now.strftime(\"%H:%M:%S\")\n",
    "print(\"Текущее время:\", current_time)  "
   ]
  },
  {
   "cell_type": "code",
   "execution_count": 201,
   "metadata": {},
   "outputs": [
    {
     "name": "stderr",
     "output_type": "stream",
     "text": [
      "C:\\Users\\anast\\AppData\\Local\\Temp\\ipykernel_2084\\3879457154.py:4: FutureWarning: Downcasting object dtype arrays on .fillna, .ffill, .bfill is deprecated and will change in a future version. Call result.infer_objects(copy=False) instead. To opt-in to the future behavior, set `pd.set_option('future.no_silent_downcasting', True)`\n",
      "  raw = cities[cities[\"Город\"].str.contains(mask, regex=True).fillna(False)][[\"Индекс\", \"Тип региона\", \"Регион\", \"Тип района\", \"Район\", \"Тип города\", \"Город\", \"Тип н/п\", \"Н/п\"]].dropna(axis=1)\n"
     ]
    },
    {
     "data": {
      "text/html": [
       "<div>\n",
       "<style scoped>\n",
       "    .dataframe tbody tr th:only-of-type {\n",
       "        vertical-align: middle;\n",
       "    }\n",
       "\n",
       "    .dataframe tbody tr th {\n",
       "        vertical-align: top;\n",
       "    }\n",
       "\n",
       "    .dataframe thead th {\n",
       "        text-align: right;\n",
       "    }\n",
       "</style>\n",
       "<table border=\"1\" class=\"dataframe\">\n",
       "  <thead>\n",
       "    <tr style=\"text-align: right;\">\n",
       "      <th></th>\n",
       "      <th>Индекс</th>\n",
       "      <th>Тип региона</th>\n",
       "      <th>Регион</th>\n",
       "      <th>Тип города</th>\n",
       "      <th>Город</th>\n",
       "    </tr>\n",
       "  </thead>\n",
       "  <tbody>\n",
       "    <tr>\n",
       "      <th>504</th>\n",
       "      <td>430000.0</td>\n",
       "      <td>Респ</td>\n",
       "      <td>Мордовия</td>\n",
       "      <td>г</td>\n",
       "      <td>Саранск</td>\n",
       "    </tr>\n",
       "  </tbody>\n",
       "</table>\n",
       "</div>"
      ],
      "text/plain": [
       "       Индекс Тип региона    Регион Тип города    Город\n",
       "504  430000.0        Респ  Мордовия          г  Саранск"
      ]
     },
     "metadata": {},
     "output_type": "display_data"
    }
   ],
   "source": [
    "cities = pd.read_csv(\"data/cities.csv\")\n",
    "\n",
    "mask = \"Саранск\" # input(\"Введите название Вашего населённого пункта\").capitalize()\n",
    "raw = cities[cities[\"Город\"].str.contains(mask, regex=True).fillna(False)][[\"Индекс\", \"Тип региона\", \"Регион\", \"Тип района\", \"Район\", \"Тип города\", \"Город\", \"Тип н/п\", \"Н/п\"]].dropna(axis=1)\n",
    "if len(raw)>0:\n",
    "    display(raw)\n",
    "else:\n",
    "    raw = cities[cities[\"Н/п\"].str.contains(mask, regex=True).fillna(False)][[\"Индекс\", \"Тип региона\", \"Регион\", \n",
    "            \"Тип района\",\t\"Район\", \"Тип города\", \"Город\", \"Тип н/п\",\t\"Н/п\"]].dropna(axis=1)\n",
    "    display(raw)"
   ]
  },
  {
   "cell_type": "code",
   "execution_count": 202,
   "metadata": {},
   "outputs": [
    {
     "data": {
      "text/html": [
       "<div>\n",
       "<style scoped>\n",
       "    .dataframe tbody tr th:only-of-type {\n",
       "        vertical-align: middle;\n",
       "    }\n",
       "\n",
       "    .dataframe tbody tr th {\n",
       "        vertical-align: top;\n",
       "    }\n",
       "\n",
       "    .dataframe thead th {\n",
       "        text-align: right;\n",
       "    }\n",
       "</style>\n",
       "<table border=\"1\" class=\"dataframe\">\n",
       "  <thead>\n",
       "    <tr style=\"text-align: right;\">\n",
       "      <th></th>\n",
       "      <th>Индекс</th>\n",
       "      <th>Тип региона</th>\n",
       "      <th>Регион</th>\n",
       "      <th>Тип района</th>\n",
       "      <th>Район</th>\n",
       "      <th>Тип города</th>\n",
       "      <th>Город</th>\n",
       "      <th>Тип н/п</th>\n",
       "      <th>Н/п</th>\n",
       "      <th>Код КЛАДР</th>\n",
       "      <th>...</th>\n",
       "      <th>Уровень по ФИАС</th>\n",
       "      <th>Признак центра района или региона</th>\n",
       "      <th>Код ОКАТО</th>\n",
       "      <th>Код ОКТМО</th>\n",
       "      <th>Код ИФНС</th>\n",
       "      <th>Часовой пояс</th>\n",
       "      <th>Широта</th>\n",
       "      <th>Долгота</th>\n",
       "      <th>Федеральный округ</th>\n",
       "      <th>Население</th>\n",
       "    </tr>\n",
       "  </thead>\n",
       "  <tbody>\n",
       "    <tr>\n",
       "      <th>419</th>\n",
       "      <td>298676.0</td>\n",
       "      <td>Респ</td>\n",
       "      <td>Крым</td>\n",
       "      <td>NaN</td>\n",
       "      <td>NaN</td>\n",
       "      <td>г</td>\n",
       "      <td>Ялта</td>\n",
       "      <td>г</td>\n",
       "      <td>Алупка</td>\n",
       "      <td>9100000800100</td>\n",
       "      <td>...</td>\n",
       "      <td>6: населенный пункт</td>\n",
       "      <td>0</td>\n",
       "      <td>35419503000</td>\n",
       "      <td>35729000.0</td>\n",
       "      <td>9103</td>\n",
       "      <td>UTC+3</td>\n",
       "      <td>44.416366</td>\n",
       "      <td>34.044550</td>\n",
       "      <td>Южный</td>\n",
       "      <td>8497</td>\n",
       "    </tr>\n",
       "    <tr>\n",
       "      <th>1066</th>\n",
       "      <td>366500.0</td>\n",
       "      <td>Респ</td>\n",
       "      <td>Чеченская</td>\n",
       "      <td>р-н</td>\n",
       "      <td>Урус-Мартановский</td>\n",
       "      <td>NaN</td>\n",
       "      <td>NaN</td>\n",
       "      <td>г</td>\n",
       "      <td>Урус-Мартан</td>\n",
       "      <td>2001000000100</td>\n",
       "      <td>...</td>\n",
       "      <td>6: населенный пункт</td>\n",
       "      <td>1</td>\n",
       "      <td>96234501000</td>\n",
       "      <td>96634000.0</td>\n",
       "      <td>2033</td>\n",
       "      <td>UTC+3</td>\n",
       "      <td>43.127607</td>\n",
       "      <td>45.540684</td>\n",
       "      <td>Северо-Кавказский</td>\n",
       "      <td>49071</td>\n",
       "    </tr>\n",
       "  </tbody>\n",
       "</table>\n",
       "<p>2 rows × 21 columns</p>\n",
       "</div>"
      ],
      "text/plain": [
       "        Индекс Тип региона     Регион Тип района              Район  \\\n",
       "419   298676.0        Респ       Крым        NaN                NaN   \n",
       "1066  366500.0        Респ  Чеченская        р-н  Урус-Мартановский   \n",
       "\n",
       "     Тип города Город Тип н/п          Н/п      Код КЛАДР  ...  \\\n",
       "419           г  Ялта       г       Алупка  9100000800100  ...   \n",
       "1066        NaN   NaN       г  Урус-Мартан  2001000000100  ...   \n",
       "\n",
       "          Уровень по ФИАС Признак центра района или региона    Код ОКАТО  \\\n",
       "419   6: населенный пункт                                 0  35419503000   \n",
       "1066  6: населенный пункт                                 1  96234501000   \n",
       "\n",
       "       Код ОКТМО  Код ИФНС  Часовой пояс     Широта    Долгота  \\\n",
       "419   35729000.0      9103         UTC+3  44.416366  34.044550   \n",
       "1066  96634000.0      2033         UTC+3  43.127607  45.540684   \n",
       "\n",
       "      Федеральный округ Население  \n",
       "419               Южный      8497  \n",
       "1066  Северо-Кавказский     49071  \n",
       "\n",
       "[2 rows x 21 columns]"
      ]
     },
     "execution_count": 202,
     "metadata": {},
     "output_type": "execute_result"
    }
   ],
   "source": [
    "cities[cities[\"Н/п\"].fillna(False) != False]"
   ]
  }
 ],
 "metadata": {
  "kernelspec": {
   "display_name": "Python 3",
   "language": "python",
   "name": "python3"
  },
  "language_info": {
   "codemirror_mode": {
    "name": "ipython",
    "version": 3
   },
   "file_extension": ".py",
   "mimetype": "text/x-python",
   "name": "python",
   "nbconvert_exporter": "python",
   "pygments_lexer": "ipython3",
   "version": "3.9.10"
  }
 },
 "nbformat": 4,
 "nbformat_minor": 2
}
