{
 "cells": [
  {
   "cell_type": "code",
   "execution_count": 1,
   "metadata": {},
   "outputs": [],
   "source": [
    "from datetime import datetime, timedelta\n",
    "from itertools import cycle"
   ]
  },
  {
   "cell_type": "code",
   "execution_count": 2,
   "metadata": {},
   "outputs": [],
   "source": [
    "animal = [\"крыса\", \"бык\", \"тигр\", \"кролик\", \"дракон\", \"змея\", \"лошадь\", \"коза\", \"обезьяна\", \"петух\", \"собака\", \"свинья\"]\n",
    "stihiya = [\"дерево\", \"дерево\", \"огонь\", \"огонь\", \"почва\", \"почва\",  \"металл\",  \"металл\", \"вода\", \"вода\"]\n",
    "in_yan = [\"ян\", \"инь\"]\n",
    "\n",
    "our_date = '06.04.2025'\n",
    "start_year = 1983\n",
    "start_month = datetime(1989,1,1)\n",
    "start_day = datetime(1998, 9, 14)\n",
    "# start_hour = datetime(1998, 9, 14)"
   ]
  },
  {
   "cell_type": "code",
   "execution_count": 3,
   "metadata": {},
   "outputs": [
    {
     "data": {
      "text/plain": [
       "datetime.date(2025, 4, 6)"
      ]
     },
     "execution_count": 3,
     "metadata": {},
     "output_type": "execute_result"
    }
   ],
   "source": [
    "our_date = our_date.split('.')\n",
    "d = int(our_date[0])\n",
    "m = int(our_date[1])\n",
    "y = int(our_date[2])\n",
    "\n",
    "our_date = datetime(y, m, d)\n",
    "our_date.date()"
   ]
  },
  {
   "cell_type": "code",
   "execution_count": 4,
   "metadata": {},
   "outputs": [
    {
     "data": {
      "text/plain": [
       "2025"
      ]
     },
     "execution_count": 4,
     "metadata": {},
     "output_type": "execute_result"
    }
   ],
   "source": [
    "our_date.year"
   ]
  },
  {
   "cell_type": "code",
   "execution_count": 5,
   "metadata": {},
   "outputs": [
    {
     "data": {
      "text/plain": [
       "'Год: 2025 змея инь дерево'"
      ]
     },
     "execution_count": 5,
     "metadata": {},
     "output_type": "execute_result"
    }
   ],
   "source": [
    "from itertools import cycle\n",
    "\n",
    "\n",
    "def get_year():\n",
    "    stih = cycle(stihiya)\n",
    "    anim = cycle(animal)\n",
    "    inyan = cycle(in_yan)\n",
    "    global our_date  \n",
    "    global start_year\n",
    "    year_china = our_date.year\n",
    "    if our_date.month < 2:\n",
    "        year_china = year_china-1\n",
    "    lst = []\n",
    "    for i in range(year_china - start_year):\n",
    "        start_year+=1\n",
    "        lst.append(f\"Год: {start_year} {next(anim)} {next(inyan)} {next(stih)}\")\n",
    "    return lst[-1]\n",
    "\n",
    "get_year()"
   ]
  },
  {
   "cell_type": "code",
   "execution_count": 6,
   "metadata": {},
   "outputs": [
    {
     "data": {
      "text/plain": [
       "'Месяц: дракон ян металл'"
      ]
     },
     "execution_count": 6,
     "metadata": {},
     "output_type": "execute_result"
    }
   ],
   "source": [
    "def get_month():\n",
    "    stih = cycle(stihiya)\n",
    "    anim = cycle(animal)\n",
    "    inyan = cycle(in_yan)\n",
    "    \n",
    "    global our_date  \n",
    "    global start_month\n",
    "    \n",
    "    end_months=(our_date.year-start_month.year)*12 + our_date.month+1\n",
    "    lst = []\n",
    "    for i in range(end_months):\n",
    "        lst.append(f\"Месяц: {next(anim)} {next(inyan)} {next(stih)}\")\n",
    "\n",
    "    return lst[-1]\n",
    "\n",
    "get_month()"
   ]
  },
  {
   "cell_type": "code",
   "execution_count": 7,
   "metadata": {},
   "outputs": [
    {
     "data": {
      "text/plain": [
       "'Месяц: змея инь дерево'"
      ]
     },
     "execution_count": 7,
     "metadata": {},
     "output_type": "execute_result"
    }
   ],
   "source": [
    "def get_day():\n",
    "    stih = cycle(stihiya)\n",
    "    anim = cycle(animal)\n",
    "    inyan = cycle(in_yan)\n",
    "    \n",
    "    global our_date  \n",
    "    global start_day\n",
    "\n",
    "    lst = []\n",
    "    for i in range(((our_date - start_day).days+1) % 60):\n",
    "        lst.append(f\"Месяц: {next(anim)} {next(inyan)} {next(stih)}\")\n",
    "\n",
    "    return lst[-1]\n",
    "\n",
    "get_day()"
   ]
  },
  {
   "cell_type": "code",
   "execution_count": 8,
   "metadata": {},
   "outputs": [
    {
     "name": "stdout",
     "output_type": "stream",
     "text": [
      "Текущее время: 07:16:47\n"
     ]
    }
   ],
   "source": [
    "time_now = datetime.now()\n",
    "current_time = time_now.strftime(\"%H:%M:%S\")\n",
    "print(\"Текущее время:\", current_time)  "
   ]
  },
  {
   "cell_type": "code",
   "execution_count": 9,
   "metadata": {},
   "outputs": [],
   "source": [
    "# stih = cycle(stihiya)\n",
    "# anim = cycle(animal)\n",
    "# inyan = cycle(in_yan)\n",
    "\n",
    "# global our_date  \n",
    "# global start_hour\n",
    "\n",
    "# lst = []\n",
    "# for i in range(((our_date - start_hour).days+1) % 60):\n",
    "#     lst.append(f\"Месяц: {next(anim)} {next(inyan)} {next(stih)}\")\n",
    "\n",
    "# lst[-1]"
   ]
  },
  {
   "cell_type": "code",
   "execution_count": 10,
   "metadata": {},
   "outputs": [],
   "source": [
    "string = \"Месяц: свинья инь огонь\""
   ]
  },
  {
   "cell_type": "code",
   "execution_count": 12,
   "metadata": {},
   "outputs": [],
   "source": [
    "# for i, s in enumerate(lst):\n",
    "#     if s == string:\n",
    "#         print(i)"
   ]
  },
  {
   "cell_type": "code",
   "execution_count": 13,
   "metadata": {},
   "outputs": [
    {
     "data": {
      "text/plain": [
       "datetime.datetime(2025, 3, 14, 0, 0)"
      ]
     },
     "execution_count": 13,
     "metadata": {},
     "output_type": "execute_result"
    }
   ],
   "source": [
    "(our_date - timedelta(days=23)) "
   ]
  },
  {
   "cell_type": "code",
   "execution_count": 47,
   "metadata": {},
   "outputs": [
    {
     "data": {
      "text/html": [
       "<div>\n",
       "<style scoped>\n",
       "    .dataframe tbody tr th:only-of-type {\n",
       "        vertical-align: middle;\n",
       "    }\n",
       "\n",
       "    .dataframe tbody tr th {\n",
       "        vertical-align: top;\n",
       "    }\n",
       "\n",
       "    .dataframe thead th {\n",
       "        text-align: right;\n",
       "    }\n",
       "</style>\n",
       "<table border=\"1\" class=\"dataframe\">\n",
       "  <thead>\n",
       "    <tr style=\"text-align: right;\">\n",
       "      <th></th>\n",
       "      <th>Индекс</th>\n",
       "      <th>Тип региона</th>\n",
       "      <th>Регион</th>\n",
       "      <th>Тип района</th>\n",
       "      <th>Район</th>\n",
       "      <th>Тип города</th>\n",
       "      <th>Город</th>\n",
       "      <th>Тип н/п</th>\n",
       "      <th>Н/п</th>\n",
       "      <th>Код КЛАДР</th>\n",
       "      <th>...</th>\n",
       "      <th>Уровень по ФИАС</th>\n",
       "      <th>Признак центра района или региона</th>\n",
       "      <th>Код ОКАТО</th>\n",
       "      <th>Код ОКТМО</th>\n",
       "      <th>Код ИФНС</th>\n",
       "      <th>Часовой пояс</th>\n",
       "      <th>Широта</th>\n",
       "      <th>Долгота</th>\n",
       "      <th>Федеральный округ</th>\n",
       "      <th>Население</th>\n",
       "    </tr>\n",
       "  </thead>\n",
       "  <tbody>\n",
       "    <tr>\n",
       "      <th>0</th>\n",
       "      <td>385200.0</td>\n",
       "      <td>Респ</td>\n",
       "      <td>Адыгея</td>\n",
       "      <td>NaN</td>\n",
       "      <td>NaN</td>\n",
       "      <td>г</td>\n",
       "      <td>Адыгейск</td>\n",
       "      <td>NaN</td>\n",
       "      <td>NaN</td>\n",
       "      <td>100000200000</td>\n",
       "      <td>...</td>\n",
       "      <td>4: город</td>\n",
       "      <td>0</td>\n",
       "      <td>79403000000</td>\n",
       "      <td>7.970300e+10</td>\n",
       "      <td>107</td>\n",
       "      <td>UTC+3</td>\n",
       "      <td>44.878372</td>\n",
       "      <td>39.190172</td>\n",
       "      <td>Южный</td>\n",
       "      <td>12689</td>\n",
       "    </tr>\n",
       "    <tr>\n",
       "      <th>1</th>\n",
       "      <td>385000.0</td>\n",
       "      <td>Респ</td>\n",
       "      <td>Адыгея</td>\n",
       "      <td>NaN</td>\n",
       "      <td>NaN</td>\n",
       "      <td>г</td>\n",
       "      <td>Майкоп</td>\n",
       "      <td>NaN</td>\n",
       "      <td>NaN</td>\n",
       "      <td>100000100000</td>\n",
       "      <td>...</td>\n",
       "      <td>4: город</td>\n",
       "      <td>2</td>\n",
       "      <td>79401000000</td>\n",
       "      <td>7.970100e+10</td>\n",
       "      <td>105</td>\n",
       "      <td>UTC+3</td>\n",
       "      <td>44.609827</td>\n",
       "      <td>40.100653</td>\n",
       "      <td>Южный</td>\n",
       "      <td>144055</td>\n",
       "    </tr>\n",
       "    <tr>\n",
       "      <th>2</th>\n",
       "      <td>649000.0</td>\n",
       "      <td>Респ</td>\n",
       "      <td>Алтай</td>\n",
       "      <td>NaN</td>\n",
       "      <td>NaN</td>\n",
       "      <td>г</td>\n",
       "      <td>Горно-Алтайск</td>\n",
       "      <td>NaN</td>\n",
       "      <td>NaN</td>\n",
       "      <td>400000100000</td>\n",
       "      <td>...</td>\n",
       "      <td>4: город</td>\n",
       "      <td>2</td>\n",
       "      <td>84401000000</td>\n",
       "      <td>8.470100e+07</td>\n",
       "      <td>400</td>\n",
       "      <td>UTC+7</td>\n",
       "      <td>51.958268</td>\n",
       "      <td>85.960296</td>\n",
       "      <td>Сибирский</td>\n",
       "      <td>62861</td>\n",
       "    </tr>\n",
       "  </tbody>\n",
       "</table>\n",
       "<p>3 rows × 21 columns</p>\n",
       "</div>"
      ],
      "text/plain": [
       "     Индекс Тип региона  Регион Тип района Район Тип города          Город  \\\n",
       "0  385200.0        Респ  Адыгея        NaN   NaN          г       Адыгейск   \n",
       "1  385000.0        Респ  Адыгея        NaN   NaN          г         Майкоп   \n",
       "2  649000.0        Респ   Алтай        NaN   NaN          г  Горно-Алтайск   \n",
       "\n",
       "  Тип н/п  Н/п     Код КЛАДР  ... Уровень по ФИАС  \\\n",
       "0     NaN  NaN  100000200000  ...        4: город   \n",
       "1     NaN  NaN  100000100000  ...        4: город   \n",
       "2     NaN  NaN  400000100000  ...        4: город   \n",
       "\n",
       "  Признак центра района или региона    Код ОКАТО     Код ОКТМО  Код ИФНС  \\\n",
       "0                                 0  79403000000  7.970300e+10       107   \n",
       "1                                 2  79401000000  7.970100e+10       105   \n",
       "2                                 2  84401000000  8.470100e+07       400   \n",
       "\n",
       "   Часовой пояс     Широта    Долгота  Федеральный округ Население  \n",
       "0         UTC+3  44.878372  39.190172              Южный     12689  \n",
       "1         UTC+3  44.609827  40.100653              Южный    144055  \n",
       "2         UTC+7  51.958268  85.960296          Сибирский     62861  \n",
       "\n",
       "[3 rows x 21 columns]"
      ]
     },
     "execution_count": 47,
     "metadata": {},
     "output_type": "execute_result"
    }
   ],
   "source": [
    "import pandas as pd\n",
    "\n",
    "cities = pd.read_csv(\"data/cities.csv\")\n",
    "cities[:3]"
   ]
  },
  {
   "cell_type": "code",
   "execution_count": 53,
   "metadata": {},
   "outputs": [
    {
     "data": {
      "text/html": [
       "<div>\n",
       "<style scoped>\n",
       "    .dataframe tbody tr th:only-of-type {\n",
       "        vertical-align: middle;\n",
       "    }\n",
       "\n",
       "    .dataframe tbody tr th {\n",
       "        vertical-align: top;\n",
       "    }\n",
       "\n",
       "    .dataframe thead th {\n",
       "        text-align: right;\n",
       "    }\n",
       "</style>\n",
       "<table border=\"1\" class=\"dataframe\">\n",
       "  <thead>\n",
       "    <tr style=\"text-align: right;\">\n",
       "      <th></th>\n",
       "      <th>Индекс</th>\n",
       "      <th>Тип региона</th>\n",
       "      <th>Регион</th>\n",
       "      <th>Тип района</th>\n",
       "      <th>Район</th>\n",
       "      <th>Тип города</th>\n",
       "      <th>Город</th>\n",
       "      <th>Тип н/п</th>\n",
       "      <th>Н/п</th>\n",
       "    </tr>\n",
       "  </thead>\n",
       "  <tbody>\n",
       "  </tbody>\n",
       "</table>\n",
       "</div>"
      ],
      "text/plain": [
       "Empty DataFrame\n",
       "Columns: [Индекс, Тип региона, Регион, Тип района, Район, Тип города, Город, Тип н/п, Н/п]\n",
       "Index: []"
      ]
     },
     "execution_count": 53,
     "metadata": {},
     "output_type": "execute_result"
    }
   ],
   "source": [
    "import re\n",
    "\n",
    "\n",
    "# cities[cities[\"Город\"].str.contains(\"Горел\\.*\", regex=True).fillna(False)][[\"Индекс\", \"Тип региона\", \"Регион\", \"Тип района\",\t\"Район\", \"Тип города\", \"Город\", \"Тип н/п\",\t\"Н/п\"]]\n",
    "cities[cities[\"Н/п\"].str.contains(\"A\\.*\", regex=True).fillna(False)][[\"Индекс\", \"Тип региона\", \"Регион\", \"Тип района\",\t\"Район\", \"Тип города\", \"Город\", \"Тип н/п\",\t\"Н/п\"]]"
   ]
  },
  {
   "cell_type": "code",
   "execution_count": 46,
   "metadata": {},
   "outputs": [
    {
     "data": {
      "text/plain": [
       "1112"
      ]
     },
     "execution_count": 46,
     "metadata": {},
     "output_type": "execute_result"
    }
   ],
   "source": [
    "len(cities)"
   ]
  },
  {
   "cell_type": "code",
   "execution_count": 55,
   "metadata": {},
   "outputs": [
    {
     "data": {
      "text/html": [
       "<div>\n",
       "<style scoped>\n",
       "    .dataframe tbody tr th:only-of-type {\n",
       "        vertical-align: middle;\n",
       "    }\n",
       "\n",
       "    .dataframe tbody tr th {\n",
       "        vertical-align: top;\n",
       "    }\n",
       "\n",
       "    .dataframe thead th {\n",
       "        text-align: right;\n",
       "    }\n",
       "</style>\n",
       "<table border=\"1\" class=\"dataframe\">\n",
       "  <thead>\n",
       "    <tr style=\"text-align: right;\">\n",
       "      <th></th>\n",
       "      <th>Индекс</th>\n",
       "      <th>Тип региона</th>\n",
       "      <th>Регион</th>\n",
       "      <th>Тип района</th>\n",
       "      <th>Район</th>\n",
       "      <th>Тип города</th>\n",
       "      <th>Город</th>\n",
       "      <th>Тип н/п</th>\n",
       "      <th>Н/п</th>\n",
       "      <th>Код КЛАДР</th>\n",
       "      <th>...</th>\n",
       "      <th>Уровень по ФИАС</th>\n",
       "      <th>Признак центра района или региона</th>\n",
       "      <th>Код ОКАТО</th>\n",
       "      <th>Код ОКТМО</th>\n",
       "      <th>Код ИФНС</th>\n",
       "      <th>Часовой пояс</th>\n",
       "      <th>Широта</th>\n",
       "      <th>Долгота</th>\n",
       "      <th>Федеральный округ</th>\n",
       "      <th>Население</th>\n",
       "    </tr>\n",
       "  </thead>\n",
       "  <tbody>\n",
       "    <tr>\n",
       "      <th>419</th>\n",
       "      <td>298676.0</td>\n",
       "      <td>Респ</td>\n",
       "      <td>Крым</td>\n",
       "      <td>NaN</td>\n",
       "      <td>NaN</td>\n",
       "      <td>г</td>\n",
       "      <td>Ялта</td>\n",
       "      <td>г</td>\n",
       "      <td>Алупка</td>\n",
       "      <td>9100000800100</td>\n",
       "      <td>...</td>\n",
       "      <td>6: населенный пункт</td>\n",
       "      <td>0</td>\n",
       "      <td>35419503000</td>\n",
       "      <td>35729000.0</td>\n",
       "      <td>9103</td>\n",
       "      <td>UTC+3</td>\n",
       "      <td>44.416366</td>\n",
       "      <td>34.044550</td>\n",
       "      <td>Южный</td>\n",
       "      <td>8497</td>\n",
       "    </tr>\n",
       "    <tr>\n",
       "      <th>1066</th>\n",
       "      <td>366500.0</td>\n",
       "      <td>Респ</td>\n",
       "      <td>Чеченская</td>\n",
       "      <td>р-н</td>\n",
       "      <td>Урус-Мартановский</td>\n",
       "      <td>NaN</td>\n",
       "      <td>NaN</td>\n",
       "      <td>г</td>\n",
       "      <td>Урус-Мартан</td>\n",
       "      <td>2001000000100</td>\n",
       "      <td>...</td>\n",
       "      <td>6: населенный пункт</td>\n",
       "      <td>1</td>\n",
       "      <td>96234501000</td>\n",
       "      <td>96634000.0</td>\n",
       "      <td>2033</td>\n",
       "      <td>UTC+3</td>\n",
       "      <td>43.127607</td>\n",
       "      <td>45.540684</td>\n",
       "      <td>Северо-Кавказский</td>\n",
       "      <td>49071</td>\n",
       "    </tr>\n",
       "  </tbody>\n",
       "</table>\n",
       "<p>2 rows × 21 columns</p>\n",
       "</div>"
      ],
      "text/plain": [
       "        Индекс Тип региона     Регион Тип района              Район  \\\n",
       "419   298676.0        Респ       Крым        NaN                NaN   \n",
       "1066  366500.0        Респ  Чеченская        р-н  Урус-Мартановский   \n",
       "\n",
       "     Тип города Город Тип н/п          Н/п      Код КЛАДР  ...  \\\n",
       "419           г  Ялта       г       Алупка  9100000800100  ...   \n",
       "1066        NaN   NaN       г  Урус-Мартан  2001000000100  ...   \n",
       "\n",
       "          Уровень по ФИАС Признак центра района или региона    Код ОКАТО  \\\n",
       "419   6: населенный пункт                                 0  35419503000   \n",
       "1066  6: населенный пункт                                 1  96234501000   \n",
       "\n",
       "       Код ОКТМО  Код ИФНС  Часовой пояс     Широта    Долгота  \\\n",
       "419   35729000.0      9103         UTC+3  44.416366  34.044550   \n",
       "1066  96634000.0      2033         UTC+3  43.127607  45.540684   \n",
       "\n",
       "      Федеральный округ Население  \n",
       "419               Южный      8497  \n",
       "1066  Северо-Кавказский     49071  \n",
       "\n",
       "[2 rows x 21 columns]"
      ]
     },
     "execution_count": 55,
     "metadata": {},
     "output_type": "execute_result"
    }
   ],
   "source": [
    "cities[cities[\"Н/п\"].fillna(False) != False]"
   ]
  },
  {
   "cell_type": "code",
   "execution_count": null,
   "metadata": {},
   "outputs": [
    {
     "data": {
      "text/html": [
       "<div>\n",
       "<style scoped>\n",
       "    .dataframe tbody tr th:only-of-type {\n",
       "        vertical-align: middle;\n",
       "    }\n",
       "\n",
       "    .dataframe tbody tr th {\n",
       "        vertical-align: top;\n",
       "    }\n",
       "\n",
       "    .dataframe thead th {\n",
       "        text-align: right;\n",
       "    }\n",
       "</style>\n",
       "<table border=\"1\" class=\"dataframe\">\n",
       "  <thead>\n",
       "    <tr style=\"text-align: right;\">\n",
       "      <th></th>\n",
       "      <th>Индекс</th>\n",
       "      <th>Тип региона</th>\n",
       "      <th>Регион</th>\n",
       "      <th>Тип района</th>\n",
       "      <th>Район</th>\n",
       "      <th>Тип города</th>\n",
       "      <th>Город</th>\n",
       "      <th>Тип н/п</th>\n",
       "      <th>Н/п</th>\n",
       "      <th>Код КЛАДР</th>\n",
       "      <th>...</th>\n",
       "      <th>Уровень по ФИАС</th>\n",
       "      <th>Признак центра района или региона</th>\n",
       "      <th>Код ОКАТО</th>\n",
       "      <th>Код ОКТМО</th>\n",
       "      <th>Код ИФНС</th>\n",
       "      <th>Часовой пояс</th>\n",
       "      <th>Широта</th>\n",
       "      <th>Долгота</th>\n",
       "      <th>Федеральный округ</th>\n",
       "      <th>Население</th>\n",
       "    </tr>\n",
       "  </thead>\n",
       "  <tbody>\n",
       "  </tbody>\n",
       "</table>\n",
       "<p>0 rows × 21 columns</p>\n",
       "</div>"
      ],
      "text/plain": [
       "Empty DataFrame\n",
       "Columns: [Индекс, Тип региона, Регион, Тип района, Район, Тип города, Город, Тип н/п, Н/п, Код КЛАДР, Код ФИАС, Уровень по ФИАС, Признак центра района или региона, Код ОКАТО, Код ОКТМО, Код ИФНС, Часовой пояс, Широта, Долгота, Федеральный округ, Население]\n",
       "Index: []\n",
       "\n",
       "[0 rows x 21 columns]"
      ]
     },
     "execution_count": 20,
     "metadata": {},
     "output_type": "execute_result"
    }
   ],
   "source": [
    "import re\n",
    "\n",
    "mask = \"A*\"\n",
    "cities[cities[\"Город\"] == mask]"
   ]
  }
 ],
 "metadata": {
  "kernelspec": {
   "display_name": "Python 3",
   "language": "python",
   "name": "python3"
  },
  "language_info": {
   "codemirror_mode": {
    "name": "ipython",
    "version": 3
   },
   "file_extension": ".py",
   "mimetype": "text/x-python",
   "name": "python",
   "nbconvert_exporter": "python",
   "pygments_lexer": "ipython3",
   "version": "3.9.10"
  }
 },
 "nbformat": 4,
 "nbformat_minor": 2
}
